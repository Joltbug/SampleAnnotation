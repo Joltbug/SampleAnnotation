{
 "cells": [
  {
   "cell_type": "code",
   "execution_count": 26,
   "metadata": {},
   "outputs": [],
   "source": [
    "import os\n",
    "import seaborn as sns\n",
    "\n",
    "import matplotlib.pyplot as plt\n",
    "%matplotlib inline\n",
    "\n",
    "import SortedNoDupeBedOverlap as bdO\n",
    "\n",
    "import pandas as pd\n",
    "import numpy as np\n",
    "import csv\n"
   ]
  },
  {
   "cell_type": "code",
   "execution_count": 2,
   "metadata": {},
   "outputs": [],
   "source": [
    "import pickle \n",
    "\n",
    "with open('demo_data.p', 'rb') as writer:\n",
    "    data = pickle.load(writer)\n",
    "mat = data['data']\n",
    "id2peak = data['id2peak']\n",
    "id2peak.sort(key=lambda x: x[1])"
   ]
  },
  {
   "cell_type": "code",
   "execution_count": 21,
   "metadata": {},
   "outputs": [],
   "source": [
    "fn_bk1 = 'GSE97887_peaks_Occ1_Fcx1_Cbh1_joint_spp_RMMMcombined_RMrepeatmask100_bandwidth500_step100_thr5_span10_fdr1e-07.sorted.bed'\n",
    "fn_bk1_data = bdO.BedScan(fn_bk1, \"\\t\")\n",
    "\n",
    "intersect = bdO.BedOverlap(id2peak, fn_bk1_data, 50)\n",
    "\n",
    "id2target = ['Ex', 'In', 'Mic', 'End', 'Ast', 'Opc', 'Oli']\n",
    "tmp = 'GSE97887_occ1_MAINSPLITS.%s.diffPeaks.sorted.bed'\n",
    "fn_target = [(c, tmp % c)  for c in id2target]\n",
    "\n",
    "set2_ref = []\n",
    "\n",
    "\n",
    "for c, f1 in fn_target:\n",
    "    scan = bdO.BedScan(f1, \"\\t\")\n",
    "    s2 = bdO.BedOverlap(id2peak, scan, 50)\n",
    "    set2_ref.append((c, s2))\n",
    "    "
   ]
  },
  {
   "cell_type": "code",
   "execution_count": 15,
   "metadata": {},
   "outputs": [],
   "source": [
    "import scipy.stats as stats\n",
    "def get_fisher_exact(s1, s2, sbk):\n",
    "    \n",
    "    n1 = len(s1 & s2)\n",
    "    n2 = len(s1 & (sbk - s2))\n",
    "    n3 = len((sbk - s1) & s2)\n",
    "    n4 = len((sbk - s1) & (sbk - s2))\n",
    "\n",
    "    mat = [[n1, n2], [n3, n4]]\n",
    "\n",
    "    oddsratio, pvalue = stats.fisher_exact(mat, 'greater')\n",
    "    return oddsratio, pvalue"
   ]
  },
  {
   "cell_type": "code",
   "execution_count": 17,
   "metadata": {},
   "outputs": [],
   "source": [
    "scores = []\n",
    "mat1 = data['data'].toarray()\n",
    "\n",
    "interset = set(intersect[:,0])\n",
    "\n",
    "for i in range (mat1.shape[1]):\n",
    "    s1 = set([id2peak[j] for j in np.where(mat1[:, i] > 0.5)[0]])\n",
    "    tmp = []\n",
    "    for c, s2 in set2_ref:\n",
    "        s2 = set(s2[:,0])\n",
    "        if not (s1 & s2):\n",
    "            tmp.append(0)\n",
    "        else:\n",
    "            tmp.append(get_fisher_exact(s1, s2, interset)[0])\n",
    "    scores.append(tmp)"
   ]
  },
  {
   "cell_type": "code",
   "execution_count": null,
   "metadata": {},
   "outputs": [],
   "source": [
    "from sklearn.manifold import TSNE\n",
    "scoresNP = np.array(scores)\n",
    "df_tsne =TSNE().fit_transform(mat1)"
   ]
  },
  {
   "cell_type": "code",
   "execution_count": null,
   "metadata": {},
   "outputs": [],
   "source": [
    "fig, axes = plt.subplots(2, 4, figsize = (12, 6))\n",
    "\n",
    "for i, (c, _) in enumerate(set2_ref):\n",
    "    ax = axes[i // 4, i % 4]\n",
    "    vmax, vmin = np.percentile(scoresNP[:, i], 99), np.percentile(scoresNP[:, i], 1)\n",
    "    ax.scatter(df_tsne[:,0], df_tsne[:,1], \n",
    "            s = 5, c = scoresNP[:, i], cmap = 'RdBu_r', vmax = vmax, vmin = vmin)\n",
    "    ax.set_title(c)\n",
    "    ax.set_xticks([])\n",
    "    ax.set_yticks([])\n",
    "    \n",
    "axes[-1, -1].axis('off')\n",
    "\n",
    "plt.show()"
   ]
  },
  {
   "cell_type": "code",
   "execution_count": 35,
   "metadata": {},
   "outputs": [],
   "source": [
    "#write output file for the intersection\n",
    "IntersectFile = open(fn_bk1+'Intersection.tsv', \"w+\")\n",
    "IntersectFile.write(\"Chr in Data\\tChr in Bk\\tOverlap percent\\n\")\n",
    "IntersectWriter= csv.writer(IntersectFile, delimiter='\\t')\n",
    "for line in intersect: IntersectWriter.writerow(line)\n",
    "IntersectFile.close()"
   ]
  },
  {
   "cell_type": "code",
   "execution_count": 36,
   "metadata": {},
   "outputs": [],
   "source": [
    "#write output file for the intersection of cell types\n",
    "for c, s2 in set2_ref:\n",
    "    setFile = open( c+\")_Intersection.tsv\" , \"w+\")\n",
    "    setFile.write(\"Chr in Data\\tChr in Bk\\tOverlap percent\\n\")\n",
    "    setWriter= csv.writer(setFile, delimiter='\\t')\n",
    "    for line in s2: setWriter.writerow(line)\n",
    "    setFile.close()\n",
    "    "
   ]
  },
  {
   "cell_type": "code",
   "execution_count": null,
   "metadata": {},
   "outputs": [],
   "source": [
    "#write output file for fischer exact scores\n",
    "ScoreFile = open('DatafischerScores.tsv', \"w+\")\n",
    "ScoreFile.write(\"Ex\\tIn\\tMic\\tEnd\\tAst\\tOpc\\tOli\\n\")\n",
    "IntersectWriter= csv.writer(IntersectFile, delimiter='\\t')\n",
    "for line in intersect: IntersectWriter.writerow(line)\n",
    "sFile.close()\n"
   ]
  }
 ],
 "metadata": {
  "kernelspec": {
   "display_name": "Python 3",
   "language": "python",
   "name": "python3"
  },
  "language_info": {
   "codemirror_mode": {
    "name": "ipython",
    "version": 3
   },
   "file_extension": ".py",
   "mimetype": "text/x-python",
   "name": "python",
   "nbconvert_exporter": "python",
   "pygments_lexer": "ipython3",
   "version": "3.7.7"
  }
 },
 "nbformat": 4,
 "nbformat_minor": 4
}
