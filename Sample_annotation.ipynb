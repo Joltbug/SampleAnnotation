{
 "cells": [
  {
   "cell_type": "code",
   "execution_count": 50,
   "metadata": {},
   "outputs": [],
   "source": [
    "import os\n",
    "import seaborn as sns\n",
    "\n",
    "import matplotlib.pyplot as plt\n",
    "%matplotlib inline\n",
    "\n",
    "import SortedNoDupeBedOverlap as bdO\n",
    "\n",
    "import pandas as pd\n",
    "import numpy as np\n",
    "import csv\n",
    "\n"
   ]
  },
  {
   "cell_type": "code",
   "execution_count": 51,
   "metadata": {},
   "outputs": [
    {
     "name": "stdout",
     "output_type": "stream",
     "text": [
      "Missing input file\n"
     ]
    },
    {
     "ename": "SystemExit",
     "evalue": "2",
     "output_type": "error",
     "traceback": [
      "An exception has occurred, use %tb to see the full traceback.\n",
      "\u001b[0;31mSystemExit\u001b[0m\u001b[0;31m:\u001b[0m 2\n"
     ]
    }
   ],
   "source": [
    "import getopt, sys\n",
    "\n",
    "full_cmd_arguments = sys.argv\n",
    "argument_list = full_cmd_arguments[1:]\n",
    "short_options = \"i:r:b:fvo\"\n",
    "long_options = [\"inpu=\", \"ref_folder=\", \"background=\",\"figure\", \"verbose\", \"output\"]\n",
    "\n",
    "try:\n",
    "    arguments, values = getopt.getopt(argument_list, short_options, long_options)\n",
    "except getopt.error as err:\n",
    "    print (str(err))\n",
    "    sys.exit(2)\n",
    "    \n",
    "figure = False\n",
    "verbose = False\n",
    "inP = False\n",
    "outP = False\n",
    "ref = False\n",
    "bkg = False\n",
    "    \n",
    "for a, v in arguments:\n",
    "    if a in (\"-v\", \"--verbose\"):\n",
    "        verbose = True\n",
    "    elif a in (\"-f\", \"--figure\"):\n",
    "        figure = True\n",
    "    elif current_argument in (\"-o\", \"--output\"):\n",
    "        outP = True\n",
    "    elif current_argument in (\"-i\", \"--input\"):\n",
    "        inP = v\n",
    "    elif current_argument in (\"-r\", \"--ref_folder\"):\n",
    "        ref = v\n",
    "    elif current_argument in (\"-b\", \"--background=\"):\n",
    "        bkg = v\n",
    "\n",
    "if (not inP):\n",
    "    print(\"Missing input file\")\n",
    "    sys.exit(2)\n",
    "if (not bkg):\n",
    "    print(\"Missing background file\")\n",
    "    sys.exit(2)\n"
   ]
  },
  {
   "cell_type": "code",
   "execution_count": 52,
   "metadata": {},
   "outputs": [],
   "source": [
    "#manually set arguments for use in ipynb\n",
    "inP = \"demo_data.csv\"\n",
    "bkg = \"GSE97887_peaks_Occ1_Fcx1_Cbh1_joint_spp_RMMMcombined_RMrepeatmask100_bandwidth500_step100_thr5_span10_fdr1e-07.sorted.bed\"\n",
    "verbose = True\n",
    "Figure = True\n",
    "outP = True"
   ]
  },
  {
   "cell_type": "code",
   "execution_count": 53,
   "metadata": {},
   "outputs": [
    {
     "name": "stdout",
     "output_type": "stream",
     "text": [
      "Reading Input File\n"
     ]
    }
   ],
   "source": [
    "if(verbose): print(\"Reading Input File\")"
   ]
  },
  {
   "cell_type": "code",
   "execution_count": 89,
   "metadata": {},
   "outputs": [],
   "source": [
    "data = pd.read_csv(inP)"
   ]
  },
  {
   "cell_type": "code",
   "execution_count": 129,
   "metadata": {},
   "outputs": [],
   "source": [
    "data.rename( columns={'Unnamed: 0':'id2peak'}, inplace=True)\n",
    "id2peak = []\n",
    "for c in data['id2peak']:\n",
    "    temp = c.split('_')\n",
    "    id2peak.append((temp[0], int(temp[1]), int(temp[2])))\n",
    "\n",
    "id2peak.sort(key=lambda x: x[1])\n",
    "#id2peak = np.array(id2peak, dtype=object)"
   ]
  },
  {
   "cell_type": "code",
   "execution_count": 130,
   "metadata": {},
   "outputs": [
    {
     "name": "stdout",
     "output_type": "stream",
     "text": [
      "('chr16', 10866, 11204)\n"
     ]
    }
   ],
   "source": [
    "print(id2peak[0])"
   ]
  },
  {
   "cell_type": "code",
   "execution_count": 131,
   "metadata": {},
   "outputs": [
    {
     "name": "stdout",
     "output_type": "stream",
     "text": [
      "Calculating Bed Overlaps\n"
     ]
    }
   ],
   "source": [
    "if(verbose): print(\"Calculating Bed Overlaps\")"
   ]
  },
  {
   "cell_type": "code",
   "execution_count": 132,
   "metadata": {},
   "outputs": [],
   "source": [
    "#fn_bk1 = 'GSE97887_peaks_Occ1_Fcx1_Cbh1_joint_spp_RMMMcombined_RMrepeatmask100_bandwidth500_step100_thr5_span10_fdr1e-07.sorted.bed'\n",
    "fn_bk1_data = bdO.BedScan(bkg, \"\\t\")\n",
    "\n",
    "intersect = bdO.BedOverlap(id2peak, fn_bk1_data, 50)\n",
    "\n",
    "id2target = ['Ex', 'In', 'Mic', 'End', 'Ast', 'Opc', 'Oli']\n",
    "if(ref): tmp = ref + '/GSE97887_occ1_MAINSPLITS.%s.diffPeaks.sorted.bed'\n",
    "else: tmp = 'GSE97887_occ1_MAINSPLITS.%s.diffPeaks.sorted.bed'\n",
    "fn_target = [(c, tmp % c)  for c in id2target]\n",
    "\n",
    "set2_ref = []\n",
    "\n",
    "for c, f1 in fn_target:\n",
    "    scan = bdO.BedScan(f1, \"\\t\")\n",
    "    s2 = bdO.BedOverlap(id2peak, scan, 50)\n",
    "    set2_ref.append((c, s2))\n",
    "    "
   ]
  },
  {
   "cell_type": "code",
   "execution_count": 133,
   "metadata": {},
   "outputs": [
    {
     "name": "stdout",
     "output_type": "stream",
     "text": [
      "Calculating Fischer Exact Scores\n"
     ]
    }
   ],
   "source": [
    "if(verbose): print(\"Calculating Fischer Exact Scores\")"
   ]
  },
  {
   "cell_type": "code",
   "execution_count": 141,
   "metadata": {},
   "outputs": [],
   "source": [
    "import scipy.stats as stats\n",
    "def get_fisher_exact(s1, s2, sbk):\n",
    "    \n",
    "    n1 = len(s1 & s2)\n",
    "    n2 = len(s1 & (sbk - s2))\n",
    "    n3 = len((sbk - s1) & s2)\n",
    "    n4 = len((sbk - s1) & (sbk - s2))\n",
    "\n",
    "    mat = [[n1, n2], [n3, n4]]\n",
    "\n",
    "    oddsratio, pvalue = stats.fisher_exact(mat, 'greater')\n",
    "    return oddsratio, pvalue"
   ]
  },
  {
   "cell_type": "code",
   "execution_count": null,
   "metadata": {},
   "outputs": [],
   "source": [
    "scores = []\n",
    "mat1 = data.drop(\"id2peak\",axis=1).to_numpy()\n",
    "\n",
    "interset = set(intersect[:,0])\n",
    "\n",
    "for i in range (mat1.shape[1]):\n",
    "    s1 = set([id2peak[j] for j in np.where(mat1[:, i] > 0.5)[0]])\n",
    "    tmp = []\n",
    "    for c, s2 in set2_ref:\n",
    "        s2 = set(s2[:,0])\n",
    "        if not (s1 & s2):\n",
    "            tmp.append(0)\n",
    "        else:\n",
    "            tmp.append(get_fisher_exact(s1, s2, interset)[0])\n",
    "    scores.append(tmp)"
   ]
  },
  {
   "cell_type": "code",
   "execution_count": null,
   "metadata": {},
   "outputs": [],
   "source": [
    "if(verbose): print(\"Intializing TSNE\")"
   ]
  },
  {
   "cell_type": "code",
   "execution_count": null,
   "metadata": {},
   "outputs": [],
   "source": [
    "from sklearn.manifold import TSNE\n",
    "scoresNP = np.array(scores)\n",
    "if(verbose): df_tsne =TSNE(verbose=1).fit_transform(np.transpose(mat1))\n",
    "else df_tsne =TSNE().fit_transform(np.transpose(mat1))"
   ]
  },
  {
   "cell_type": "code",
   "execution_count": null,
   "metadata": {},
   "outputs": [],
   "source": [
    "fig, axes = plt.subplots(2, 4, figsize = (12, 6))\n",
    "\n",
    "for i, (c, _) in enumerate(set2_ref):\n",
    "    ax = axes[i // 4, i % 4]\n",
    "    vmax, vmin = np.percentile(scoresNP[:, i], 99), np.percentile(scoresNP[:, i], 1)\n",
    "    ax.scatter(df_tsne[:,0], df_tsne[:,1], \n",
    "            s = 5, c = scoresNP[:, i], cmap = 'RdBu_r', vmax = vmax, vmin = vmin)\n",
    "    ax.set_title(c)\n",
    "    ax.set_xticks([])\n",
    "    ax.set_yticks([])\n",
    "    \n",
    "axes[-1, -1].axis('off')\n",
    "\n",
    "if(figure): plt.savefig(inP + '.png')\n",
    "else plt.show()"
   ]
  },
  {
   "cell_type": "code",
   "execution_count": null,
   "metadata": {},
   "outputs": [],
   "source": [
    "def output():\n",
    "    if(verbose): print(\"Outputing\")\n",
    "    #write output file for the intersection\n",
    "    IntersectFile = open(fn_bk1+'Intersection.tsv', \"w+\")\n",
    "    IntersectFile.write(\"Chr in Data\\tChr in Bk\\tOverlap percent\\n\")\n",
    "    IntersectWriter= csv.writer(IntersectFile, delimiter='\\t')\n",
    "    for line in intersect: IntersectWriter.writerow(line)\n",
    "    IntersectFile.close()\n",
    "    \n",
    "    #write output file for the intersection of cell types\n",
    "    for c, s2 in set2_ref:\n",
    "        setFile = open( c+\")_Intersection.tsv\" , \"w+\")\n",
    "        setFile.write(\"Chr in Data\\tChr in Bk\\tOverlap percent\\n\")\n",
    "        setWriter= csv.writer(setFile, delimiter='\\t')\n",
    "        for line in s2: setWriter.writerow(line)\n",
    "        setFile.close()\n",
    "    \n",
    "    #write output file for fischer exact scores\n",
    "    ScoreFile = open('DatafischerScores.tsv', \"w+\")\n",
    "    ScoreFile.write(\"Ex\\tIn\\tMic\\tEnd\\tAst\\tOpc\\tOli\\n\")\n",
    "    IntersectWriter= csv.writer(IntersectFile, delimiter='\\t')\n",
    "    for line in intersect: IntersectWriter.writerow(line)\n",
    "    sFile.close()\n"
   ]
  },
  {
   "cell_type": "code",
   "execution_count": null,
   "metadata": {},
   "outputs": [],
   "source": [
    "if(verbose): print(\"Outputting\")\n",
    "if(output) output()"
   ]
  },
  {
   "cell_type": "code",
   "execution_count": null,
   "metadata": {},
   "outputs": [],
   "source": []
  }
 ],
 "metadata": {
  "kernelspec": {
   "display_name": "Python 3",
   "language": "python",
   "name": "python3"
  },
  "language_info": {
   "codemirror_mode": {
    "name": "ipython",
    "version": 3
   },
   "file_extension": ".py",
   "mimetype": "text/x-python",
   "name": "python",
   "nbconvert_exporter": "python",
   "pygments_lexer": "ipython3",
   "version": "3.7.7"
  }
 },
 "nbformat": 4,
 "nbformat_minor": 4
}
