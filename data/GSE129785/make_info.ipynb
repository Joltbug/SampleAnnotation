{
 "cells": [
  {
   "cell_type": "code",
   "execution_count": 1,
   "metadata": {},
   "outputs": [],
   "source": [
    "import yaml"
   ]
  },
  {
   "cell_type": "code",
   "execution_count": 2,
   "metadata": {},
   "outputs": [],
   "source": [
    "import os"
   ]
  },
  {
   "cell_type": "code",
   "execution_count": 7,
   "metadata": {
    "scrolled": true
   },
   "outputs": [],
   "source": [
    "beds = [f for f in os.listdir('./') if f[-4:] == '.bed']\n",
    "celltype_peaks = {bed.split('.')[0]: bed for bed in beds}"
   ]
  },
  {
   "cell_type": "code",
   "execution_count": 16,
   "metadata": {},
   "outputs": [],
   "source": [
    "import pandas as pd\n",
    "df = pd.read_csv('./GSE129785_scATAC-Hematopoiesis-All.peaks.txt.gz')\n",
    "df_bed = pd.DataFrame([p.split('_') for p in df.Feature])"
   ]
  },
  {
   "cell_type": "code",
   "execution_count": 17,
   "metadata": {},
   "outputs": [
    {
     "data": {
      "text/plain": [
       "(571400, 3)"
      ]
     },
     "execution_count": 17,
     "metadata": {},
     "output_type": "execute_result"
    }
   ],
   "source": [
    "df_bed.shape"
   ]
  },
  {
   "cell_type": "code",
   "execution_count": 13,
   "metadata": {},
   "outputs": [],
   "source": [
    "df_bed.to_csv('background_peaks.bed', sep = '\\t', header = None, index = False)"
   ]
  },
  {
   "cell_type": "code",
   "execution_count": 8,
   "metadata": {
    "scrolled": true
   },
   "outputs": [
    {
     "data": {
      "text/plain": [
       "{'Naive CD8 T3': 'Naive CD8 T3.bed',\n",
       " 'Naive B': 'Naive B.bed',\n",
       " 'Immature NK': 'Immature NK.bed',\n",
       " 'Effector memory CD8 T': 'Effector memory CD8 T.bed',\n",
       " 'LMPP': 'LMPP.bed',\n",
       " 'Naive CD8 T2': 'Naive CD8 T2.bed',\n",
       " 'Basophil': 'Basophil.bed',\n",
       " 'Naive Treg': 'Naive Treg.bed',\n",
       " 'Gamma delta T': 'Gamma delta T.bed',\n",
       " 'Mature NK1': 'Mature NK1.bed',\n",
       " 'MEP': 'MEP.bed',\n",
       " 'CLP': 'CLP.bed',\n",
       " 'Monocyte 1': 'Monocyte 1.bed',\n",
       " 'GMP': 'GMP.bed',\n",
       " 'Treg': 'Treg.bed',\n",
       " 'Naive CD4 T1': 'Naive CD4 T1.bed',\n",
       " 'Memory CD4 T': 'Memory CD4 T.bed',\n",
       " 'Mature NK2': 'Mature NK2.bed',\n",
       " 'Pro-B': 'Pro-B.bed',\n",
       " 'Naive CD8 T1': 'Naive CD8 T1.bed',\n",
       " 'MDP': 'MDP.bed',\n",
       " 'Monocyte 2': 'Monocyte 2.bed',\n",
       " 'HSC_MPP': 'HSC_MPP.bed',\n",
       " 'CMP_BMP': 'CMP_BMP.bed',\n",
       " 'cDC': 'cDC.bed',\n",
       " 'Central memory CD8 T': 'Central memory CD8 T.bed',\n",
       " 'Plasma cell': 'Plasma cell.bed',\n",
       " 'Pre-B': 'Pre-B.bed',\n",
       " 'Naive CD4 T2': 'Naive CD4 T2.bed',\n",
       " 'Memory B': 'Memory B.bed',\n",
       " 'pDC': 'pDC.bed'}"
      ]
     },
     "execution_count": 8,
     "metadata": {},
     "output_type": "execute_result"
    }
   ],
   "source": [
    "celltype_peaks"
   ]
  },
  {
   "cell_type": "code",
   "execution_count": 14,
   "metadata": {},
   "outputs": [],
   "source": [
    "meta = {'background':'background_peaks.bed',\n",
    "  'cell_type':celltype_peaks\n",
    "       }\n"
   ]
  },
  {
   "cell_type": "code",
   "execution_count": 15,
   "metadata": {},
   "outputs": [],
   "source": [
    "with open('info.yaml', 'w') as writer:\n",
    "    yaml.dump(meta, writer)"
   ]
  },
  {
   "cell_type": "code",
   "execution_count": null,
   "metadata": {},
   "outputs": [],
   "source": []
  }
 ],
 "metadata": {
  "kernelspec": {
   "display_name": "Python 3",
   "language": "python",
   "name": "python3"
  },
  "language_info": {
   "codemirror_mode": {
    "name": "ipython",
    "version": 3
   },
   "file_extension": ".py",
   "mimetype": "text/x-python",
   "name": "python",
   "nbconvert_exporter": "python",
   "pygments_lexer": "ipython3",
   "version": "3.7.4"
  }
 },
 "nbformat": 4,
 "nbformat_minor": 2
}
