{
 "cells": [
  {
   "cell_type": "code",
   "execution_count": 2,
   "metadata": {},
   "outputs": [],
   "source": [
    "import pandas as pd\n",
    "import os\n",
    "import sys\n",
    "sys.path.append(os.path.abspath('../../../'))"
   ]
  },
  {
   "cell_type": "code",
   "execution_count": 3,
   "metadata": {},
   "outputs": [],
   "source": [
    "import SortedNoDupeBedOverlap as bdo"
   ]
  },
  {
   "cell_type": "code",
   "execution_count": 4,
   "metadata": {},
   "outputs": [],
   "source": [
    "peaks0 = sorted(bdo.BedScan('sample0.bed'))\n",
    "peaks1 = sorted(bdo.BedScan('sample1.bed'))"
   ]
  },
  {
   "cell_type": "code",
   "execution_count": 5,
   "metadata": {},
   "outputs": [],
   "source": [
    "test_input = [(30, peaks0, peaks1, 'intersect_0to1_0.3.bed'),\n",
    "              (50, peaks0, peaks1, 'intersect_0to1_0.5.bed'),\n",
    "              (70, peaks0, peaks1, 'intersect_0to1_0.7.bed'),\n",
    "              (30, peaks1, peaks0, 'intersect_1to0_0.3.bed'),\n",
    "              (50, peaks1, peaks0, 'intersect_1to0_0.5.bed'),\n",
    "              (70, peaks1, peaks0, 'intersect_1to0_0.7.bed'),]\n",
    "\n",
    "for i, (thres, p0, p1, fn) in enumerate(test_input):\n",
    "    overlaps = bdo.BedOverlap(p0, p1, thres)\n",
    "    ans = bdo.BedScan(fn)\n",
    "    assert(set(ans) == set([p[0] for p in overlaps]))"
   ]
  },
  {
   "cell_type": "code",
   "execution_count": 6,
   "metadata": {
    "scrolled": true
   },
   "outputs": [
    {
     "data": {
      "text/plain": [
       "set()"
      ]
     },
     "execution_count": 6,
     "metadata": {},
     "output_type": "execute_result"
    }
   ],
   "source": [
    "set(ans) - set([p[0] for p in overlaps])"
   ]
  },
  {
   "cell_type": "code",
   "execution_count": 7,
   "metadata": {},
   "outputs": [
    {
     "data": {
      "text/plain": [
       "set()"
      ]
     },
     "execution_count": 7,
     "metadata": {},
     "output_type": "execute_result"
    }
   ],
   "source": [
    "set([p[0] for p in overlaps]) - set(ans)"
   ]
  },
  {
   "cell_type": "code",
   "execution_count": null,
   "metadata": {},
   "outputs": [],
   "source": []
  }
 ],
 "metadata": {
  "kernelspec": {
   "display_name": "Python 3",
   "language": "python",
   "name": "python3"
  },
  "language_info": {
   "codemirror_mode": {
    "name": "ipython",
    "version": 3
   },
   "file_extension": ".py",
   "mimetype": "text/x-python",
   "name": "python",
   "nbconvert_exporter": "python",
   "pygments_lexer": "ipython3",
   "version": "3.7.4"
  }
 },
 "nbformat": 4,
 "nbformat_minor": 2
}
