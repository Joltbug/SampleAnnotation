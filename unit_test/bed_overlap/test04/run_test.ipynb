{
 "cells": [
  {
   "cell_type": "code",
   "execution_count": 1,
   "metadata": {},
   "outputs": [],
   "source": [
    "import pandas as pd\n",
    "import os\n",
    "import sys\n",
    "sys.path.append(os.path.abspath('../../../'))"
   ]
  },
  {
   "cell_type": "code",
   "execution_count": 2,
   "metadata": {},
   "outputs": [],
   "source": [
    "import SortedNoDupeBedOverlap as bdo"
   ]
  },
  {
   "cell_type": "code",
   "execution_count": 3,
   "metadata": {},
   "outputs": [],
   "source": [
    "peaks0 = sorted(bdo.BedScan('sample0.bed'))\n",
    "peaksAst = sorted(bdo.BedScan('GSE97887_occ1_MAINSPLITS.Ast.diffPeaks.bed'))\n",
    "peaksEnd = sorted(bdo.BedScan('GSE97887_occ1_MAINSPLITS.End.diffPeaks.bed'))\n",
    "peaksEx = sorted(bdo.BedScan('GSE97887_occ1_MAINSPLITS.Ex.diffPeaks.bed'))\n",
    "peaksAst_sort = sorted(bdo.BedScan('GSE97887_Ast_sorted.bed'))\n",
    "peaksEnd_sort = sorted(bdo.BedScan('GSE97887_End_sorted.bed'))\n",
    "peaksEx_sort = sorted(bdo.BedScan('GSE97887_Ex_sorted.bed'))"
   ]
  },
  {
   "cell_type": "code",
   "execution_count": 4,
   "metadata": {},
   "outputs": [],
   "source": [
    "assert(set(peaksAst) == set(peaksAst_sort))\n",
    "assert(set(peaksEnd) == set(peaksEnd_sort))\n",
    "assert(set(peaksEx) == set(peaksEx_sort))"
   ]
  },
  {
   "cell_type": "code",
   "execution_count": 5,
   "metadata": {},
   "outputs": [],
   "source": [
    "test_input = [(50, peaks0, peaksAst, 'intersect_0toAst_0.5.bed'),\n",
    "              (50, peaks0, peaksEnd, 'intersect_0toEnd_0.5.bed'),\n",
    "              (50, peaks0, peaksEx, 'intersect_0toEx_0.5.bed'),\n",
    "              (50, peaksAst, peaks0, 'intersect_Astto0_0.5.bed'),\n",
    "              (50, peaksEnd, peaks0, 'intersect_Endto0_0.5.bed'),\n",
    "              (50, peaksEx, peaks0, 'intersect_Exto0_0.5.bed'),]\n",
    "\n",
    "for i, (thres, p0, p1, fn) in enumerate(test_input):\n",
    "    overlaps = bdo.BedOverlap(p0, p1, thres)\n",
    "    ans = bdo.BedScan(fn)\n",
    "    assert(set(ans) == set([p[0] for p in overlaps]))"
   ]
  },
  {
   "cell_type": "code",
   "execution_count": null,
   "metadata": {},
   "outputs": [],
   "source": []
  }
 ],
 "metadata": {
  "kernelspec": {
   "display_name": "Python 3",
   "language": "python",
   "name": "python3"
  },
  "language_info": {
   "codemirror_mode": {
    "name": "ipython",
    "version": 3
   },
   "file_extension": ".py",
   "mimetype": "text/x-python",
   "name": "python",
   "nbconvert_exporter": "python",
   "pygments_lexer": "ipython3",
   "version": "3.7.4"
  }
 },
 "nbformat": 4,
 "nbformat_minor": 2
}
