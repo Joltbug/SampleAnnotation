{
 "cells": [
  {
   "cell_type": "code",
   "execution_count": 1,
   "metadata": {},
   "outputs": [],
   "source": [
    "import numpy as np\n",
    "np.random.seed(1548)\n",
    "chrom_size = 1000\n",
    "ints0 = np.sort(np.random.choice(chrom_size + 1, size = 100, replace = False))\n",
    "ints1 = np.sort(np.random.choice(chrom_size + 1, size = 100, replace = False))"
   ]
  },
  {
   "cell_type": "code",
   "execution_count": 2,
   "metadata": {},
   "outputs": [],
   "source": [
    "bed0 = [('chr1', a, b) for a, b in zip(ints0[::2], ints0[1::2])]\n",
    "bed1 = [('chr1', a, b) for a, b in zip(ints1[::2], ints1[1::2])]"
   ]
  },
  {
   "cell_type": "code",
   "execution_count": 5,
   "metadata": {
    "scrolled": true
   },
   "outputs": [],
   "source": [
    "import pandas as pd\n",
    "\n",
    "pd.DataFrame(bed0).to_csv('sample0.bed', index = False, header = None, sep = '\\t')\n",
    "pd.DataFrame(bed1).to_csv('sample1.bed', index = False, header = None, sep = '\\t')"
   ]
  },
  {
   "cell_type": "code",
   "execution_count": null,
   "metadata": {},
   "outputs": [],
   "source": []
  }
 ],
 "metadata": {
  "kernelspec": {
   "display_name": "Python 3",
   "language": "python",
   "name": "python3"
  },
  "language_info": {
   "codemirror_mode": {
    "name": "ipython",
    "version": 3
   },
   "file_extension": ".py",
   "mimetype": "text/x-python",
   "name": "python",
   "nbconvert_exporter": "python",
   "pygments_lexer": "ipython3",
   "version": "3.7.4"
  }
 },
 "nbformat": 4,
 "nbformat_minor": 2
}
