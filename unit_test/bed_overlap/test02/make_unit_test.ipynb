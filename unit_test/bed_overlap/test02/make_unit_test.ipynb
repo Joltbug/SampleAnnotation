{
 "cells": [
  {
   "cell_type": "code",
   "execution_count": 5,
   "metadata": {},
   "outputs": [],
   "source": [
    "import numpy as np\n",
    "np.random.seed(1548)"
   ]
  },
  {
   "cell_type": "code",
   "execution_count": 6,
   "metadata": {},
   "outputs": [],
   "source": [
    "def make_random_ocr():\n",
    "    ocrs = []\n",
    "    for i in range(1, 23):\n",
    "        chrom_size = np.random.randint(1000, 10000)\n",
    "        n_ocr = np.random.randint(100, 300)\n",
    "        ints = np.sort(np.random.choice(chrom_size + 1, size = n_ocr, replace = False))\n",
    "        ocrs += [('chr%i' % i, a, b) for a, b in zip(ints[::2], ints[1::2])]\n",
    "    return ocrs"
   ]
  },
  {
   "cell_type": "code",
   "execution_count": 7,
   "metadata": {},
   "outputs": [],
   "source": [
    "bed0 = make_random_ocr()\n",
    "bed1 = make_random_ocr()"
   ]
  },
  {
   "cell_type": "code",
   "execution_count": 8,
   "metadata": {
    "scrolled": true
   },
   "outputs": [],
   "source": [
    "import pandas as pd\n",
    "\n",
    "pd.DataFrame(bed0).to_csv('sample0.bed', index = False, header = None, sep = '\\t')\n",
    "pd.DataFrame(bed1).to_csv('sample1.bed', index = False, header = None, sep = '\\t')"
   ]
  },
  {
   "cell_type": "code",
   "execution_count": null,
   "metadata": {},
   "outputs": [],
   "source": []
  }
 ],
 "metadata": {
  "kernelspec": {
   "display_name": "Python 3",
   "language": "python",
   "name": "python3"
  },
  "language_info": {
   "codemirror_mode": {
    "name": "ipython",
    "version": 3
   },
   "file_extension": ".py",
   "mimetype": "text/x-python",
   "name": "python",
   "nbconvert_exporter": "python",
   "pygments_lexer": "ipython3",
   "version": "3.7.4"
  }
 },
 "nbformat": 4,
 "nbformat_minor": 2
}
